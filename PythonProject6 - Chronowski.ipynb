{
 "cells": [
  {
   "cell_type": "code",
   "execution_count": 1,
   "metadata": {},
   "outputs": [],
   "source": [
    "# Step 1 # Importing packages/modules\n",
    "\n",
    "import csv\n",
    "from astropy import units as u\n",
    "import pandas as pd\n",
    "import matplotlib\n",
    "%matplotlib inline\n",
    "from matplotlib import pylab as plt\n",
    "import io"
   ]
  },
  {
   "cell_type": "code",
   "execution_count": 2,
   "metadata": {
    "scrolled": true
   },
   "outputs": [
    {
     "name": "stdout",
     "output_type": "stream",
     "text": [
      " Volume in drive C has no label.\n",
      " Volume Serial Number is 70D9-DAD9\n",
      "\n",
      " Directory of C:\\Users\\chron\\Python Projects\n",
      "\n",
      "24.01.2021  15:58    <DIR>          .\n",
      "24.01.2021  15:58    <DIR>          ..\n",
      "24.01.2021  15:58    <DIR>          .ipynb_checkpoints\n",
      "20.01.2021  11:04           298 458 Al2O3_500nm_5_8%.csv\n",
      "20.01.2021  11:03         3 842 695 Krzywe rozciągania - Al2O3.xlsx\n",
      "20.01.2021  11:24         6 762 186 Krzywe rozciągania - Opus.xlsx\n",
      "20.01.2021  13:12        12 956 533 krzywe.csv\n",
      "20.01.2021  12:48        34 007 689 krzyweOPUSkropka.csv\n",
      "20.01.2021  12:58        15 129 827 krzyweopustxt.csv\n",
      "20.01.2021  13:29        12 956 534 krzyweroz.csv\n",
      "20.01.2021  11:24         4 622 116 krzywe_roz_OPUS.csv\n",
      "20.01.2021  11:03         4 905 013 Opus_11_520_11_5%wag-1.csv\n",
      "20.01.2021  11:04         1 490 220 Opus_11_520_11_5%wag-2.csv\n",
      "20.01.2021  11:04         1 418 261 Opus_11_520_11_5%wag-22.csv\n",
      "20.01.2021  11:04         5 567 931 Opus_11_520_11_5%wag-3.csv\n",
      "20.01.2021  11:04         1 674 794 Opus_11_520_11_5%wag-4.csv\n",
      "24.01.2021  15:57            54 801 PythonProject6 - Chronowski.ipynb\n",
      "20.01.2021  11:50            18 194 Untitled.ipynb\n",
      "              15 File(s)    105 705 252 bytes\n",
      "               3 Dir(s)  14 435 672 064 bytes free\n"
     ]
    }
   ],
   "source": [
    "# Step 2 # Checking dir\n",
    "\n",
    "!dir"
   ]
  },
  {
   "cell_type": "code",
   "execution_count": 3,
   "metadata": {},
   "outputs": [],
   "source": [
    "# Step 3 # Picking a csv file to work with it\n",
    "dataset = pd.read_csv('krzywe.csv', sep=',', skiprows=0)"
   ]
  },
  {
   "cell_type": "code",
   "execution_count": 4,
   "metadata": {
    "scrolled": false
   },
   "outputs": [
    {
     "name": "stdout",
     "output_type": "stream",
     "text": [
      "<class 'pandas.core.frame.DataFrame'>\n",
      "RangeIndex: 1048575 entries, 0 to 1048574\n",
      "Data columns (total 8 columns):\n",
      " #   Column  Non-Null Count  Dtype  \n",
      "---  ------  --------------  -----  \n",
      " 0   mpa1    78108 non-null  float64\n",
      " 1   odk1    78108 non-null  float64\n",
      " 2   mpa2    23819 non-null  float64\n",
      " 3   odk2    23819 non-null  float64\n",
      " 4   mp3     93041 non-null  float64\n",
      " 5   odk3    93041 non-null  float64\n",
      " 6   mpa4    28133 non-null  float64\n",
      " 7   odk4    28133 non-null  float64\n",
      "dtypes: float64(8)\n",
      "memory usage: 64.0 MB\n"
     ]
    }
   ],
   "source": [
    "# Step 4 # Cheacking if data is correctly seperated\n",
    "dataset.info()\n"
   ]
  },
  {
   "cell_type": "code",
   "execution_count": 5,
   "metadata": {},
   "outputs": [
    {
     "data": {
      "text/html": [
       "<div>\n",
       "<style scoped>\n",
       "    .dataframe tbody tr th:only-of-type {\n",
       "        vertical-align: middle;\n",
       "    }\n",
       "\n",
       "    .dataframe tbody tr th {\n",
       "        vertical-align: top;\n",
       "    }\n",
       "\n",
       "    .dataframe thead th {\n",
       "        text-align: right;\n",
       "    }\n",
       "</style>\n",
       "<table border=\"1\" class=\"dataframe\">\n",
       "  <thead>\n",
       "    <tr style=\"text-align: right;\">\n",
       "      <th></th>\n",
       "      <th>mpa1</th>\n",
       "      <th>odk1</th>\n",
       "      <th>mpa2</th>\n",
       "      <th>odk2</th>\n",
       "      <th>mp3</th>\n",
       "      <th>odk3</th>\n",
       "      <th>mpa4</th>\n",
       "      <th>odk4</th>\n",
       "    </tr>\n",
       "  </thead>\n",
       "  <tbody>\n",
       "    <tr>\n",
       "      <th>0</th>\n",
       "      <td>-0.003823</td>\n",
       "      <td>0.000000</td>\n",
       "      <td>-1.933609</td>\n",
       "      <td>0.0</td>\n",
       "      <td>0.108869</td>\n",
       "      <td>0.000000</td>\n",
       "      <td>0.151705</td>\n",
       "      <td>0.000000</td>\n",
       "    </tr>\n",
       "    <tr>\n",
       "      <th>1</th>\n",
       "      <td>-0.003823</td>\n",
       "      <td>0.000000</td>\n",
       "      <td>-1.910113</td>\n",
       "      <td>0.0</td>\n",
       "      <td>0.128978</td>\n",
       "      <td>0.000000</td>\n",
       "      <td>0.054122</td>\n",
       "      <td>0.000000</td>\n",
       "    </tr>\n",
       "    <tr>\n",
       "      <th>2</th>\n",
       "      <td>-0.003823</td>\n",
       "      <td>0.000000</td>\n",
       "      <td>-1.887308</td>\n",
       "      <td>0.0</td>\n",
       "      <td>0.138686</td>\n",
       "      <td>0.000000</td>\n",
       "      <td>0.072982</td>\n",
       "      <td>0.000000</td>\n",
       "    </tr>\n",
       "    <tr>\n",
       "      <th>3</th>\n",
       "      <td>-0.003823</td>\n",
       "      <td>0.000135</td>\n",
       "      <td>-1.947431</td>\n",
       "      <td>0.0</td>\n",
       "      <td>0.135219</td>\n",
       "      <td>0.000000</td>\n",
       "      <td>0.090203</td>\n",
       "      <td>0.000000</td>\n",
       "    </tr>\n",
       "    <tr>\n",
       "      <th>4</th>\n",
       "      <td>-0.003823</td>\n",
       "      <td>0.000135</td>\n",
       "      <td>-1.900438</td>\n",
       "      <td>0.0</td>\n",
       "      <td>0.127591</td>\n",
       "      <td>0.000417</td>\n",
       "      <td>0.102503</td>\n",
       "      <td>0.000417</td>\n",
       "    </tr>\n",
       "  </tbody>\n",
       "</table>\n",
       "</div>"
      ],
      "text/plain": [
       "       mpa1      odk1      mpa2  odk2       mp3      odk3      mpa4      odk4\n",
       "0 -0.003823  0.000000 -1.933609   0.0  0.108869  0.000000  0.151705  0.000000\n",
       "1 -0.003823  0.000000 -1.910113   0.0  0.128978  0.000000  0.054122  0.000000\n",
       "2 -0.003823  0.000000 -1.887308   0.0  0.138686  0.000000  0.072982  0.000000\n",
       "3 -0.003823  0.000135 -1.947431   0.0  0.135219  0.000000  0.090203  0.000000\n",
       "4 -0.003823  0.000135 -1.900438   0.0  0.127591  0.000417  0.102503  0.000417"
      ]
     },
     "execution_count": 5,
     "metadata": {},
     "output_type": "execute_result"
    }
   ],
   "source": [
    "# Step 4b # Cheacking if data is correctly seperated\n",
    "dataset.head()"
   ]
  },
  {
   "cell_type": "code",
   "execution_count": 6,
   "metadata": {
    "scrolled": true
   },
   "outputs": [
    {
     "data": {
      "text/plain": [
       "<matplotlib.legend.Legend at 0x1d9bfca2e50>"
      ]
     },
     "execution_count": 6,
     "metadata": {},
     "output_type": "execute_result"
    },
    {
     "data": {
      "image/png": "[encoded data removed]",
      "text/plain": [
       "<Figure size 432x288 with 1 Axes>"
      ]
     },
     "metadata": {
      "needs_background": "light"
     },
     "output_type": "display_data"
    }
   ],
   "source": [
    "plt.xlabel('Odkształcenie [%]', fontsize=14)\n",
    "plt.ylabel('Naprężenie [MPa]', fontsize=14)\n",
    "plt.title('Wykres zbiorczy próby rozciągania próbek', fontsize=18)\n",
    "plt.style.use('fivethirtyeight')\n",
    "plt.grid(True)\n",
    "plt.plot(dataset.odk1, dataset.mpa1, label=\"Speciman 1\", color='tomato', linewidth=5)\n",
    "plt.plot(dataset.odk2, dataset.mpa2, label=\"Speciman 2\", color='seagreen', linewidth=5, linestyle='-.')\n",
    "plt.plot(dataset.odk3, dataset.mp3, label=\"Speciman 3\", color='dodgerblue', linewidth=5, linestyle='--')\n",
    "plt.plot(dataset.odk4, dataset.mpa4, label=\"Speciman 4\", color='violet', linewidth=5, linestyle=':')\n",
    "plt.legend()\n"
   ]
  },
  {
   "cell_type": "code",
   "execution_count": 7,
   "metadata": {},
   "outputs": [
    {
     "name": "stdout",
     "output_type": "stream",
     "text": [
      "Data for Specimen nr 1:\n",
      "117060200.0 Pa\n",
      "33.70213 %\n",
      " \n",
      "---------------------------------\n",
      " \n",
      "Data for Specimen nr 2:\n",
      "73963670.0 Pa\n",
      "15.8775 %\n",
      " \n",
      "---------------------------------\n",
      " \n",
      "Data for Specimen nr 3:\n",
      "96285119.99999999 Pa\n",
      "62.02542 %\n",
      " \n",
      "---------------------------------\n",
      " \n",
      "Data for Specimen nr 4:\n",
      "83199069.99999999 Pa\n",
      "18.75333 %\n"
     ]
    }
   ],
   "source": [
    "# Step 5 # Finding maximum pressure and strain for each speciman. \n",
    "\n",
    "print('Data for Specimen nr 1:')\n",
    "pressure1 = dataset[\"mpa1\"]\n",
    "max_p1 = pressure1.max()\n",
    "print(max_p1 *1000000 *u.pascal)\n",
    "strain1 = dataset['odk1']\n",
    "max_s1 = strain1.max()\n",
    "print(max_s1 *u.pct)\n",
    "print(' ')\n",
    "print('---------------------------------')\n",
    "print(' ')\n",
    "print('Data for Specimen nr 2:')\n",
    "pressure2 = dataset[\"mpa2\"]\n",
    "max_p2 = pressure2.max()\n",
    "print(max_p2 *1000000 *u.pascal)\n",
    "strain2 = dataset['odk2']\n",
    "max_s2 = strain2.max()\n",
    "print(max_s2 *u.pct)\n",
    "print(' ')\n",
    "print('---------------------------------')\n",
    "print(' ')\n",
    "print('Data for Specimen nr 3:')\n",
    "pressure3 = dataset[\"mp3\"]\n",
    "max_p3 = pressure3.max()\n",
    "print(max_p3 *1000000 *u.pascal)\n",
    "strain3 = dataset['odk3']\n",
    "max_s3 = strain3.max()\n",
    "print(max_s3 *u.pct)\n",
    "print(' ')\n",
    "print('---------------------------------')\n",
    "print(' ')\n",
    "print('Data for Specimen nr 4:')\n",
    "pressure4 = dataset[\"mpa4\"]\n",
    "max_p4 = pressure4.max()\n",
    "print(max_p4 *1000000 *u.pascal)\n",
    "strain4 = dataset['odk4']\n",
    "max_s4 = strain4.max()\n",
    "print(max_s4 *u.pct)\n"
   ]
  },
  {
   "cell_type": "code",
   "execution_count": null,
   "metadata": {},
   "outputs": [],
   "source": []
  }
 ],
 "metadata": {
  "kernelspec": {
   "display_name": "Python 3",
   "language": "python",
   "name": "python3"
  },
  "language_info": {
   "codemirror_mode": {
    "name": "ipython",
    "version": 3
   },
   "file_extension": ".py",
   "mimetype": "text/x-python",
   "name": "python",
   "nbconvert_exporter": "python",
   "pygments_lexer": "ipython3",
   "version": "3.8.5"
  }
 },
 "nbformat": 4,
 "nbformat_minor": 4
}
