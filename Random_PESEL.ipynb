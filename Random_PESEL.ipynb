{
  "nbformat": 4,
  "nbformat_minor": 0,
  "metadata": {
    "colab": {
      "name": "Random PESEL.ipynb",
      "provenance": [],
      "authorship_tag": "ABX9TyPsdSxuH5d4vbhFZyBUYLaP",
      "include_colab_link": true
    },
    "kernelspec": {
      "name": "python3",
      "display_name": "Python 3"
    }
  },
  "cells": [
    {
      "cell_type": "markdown",
      "metadata": {
        "id": "view-in-github",
        "colab_type": "text"
      },
      "source": [
        "<a href=\"https://colab.research.google.com/github/mchronowski/KISDPythonCourse/blob/main/Random_PESEL.ipynb\" target=\"_parent\"><img src=\"https://colab.research.google.com/assets/colab-badge.svg\" alt=\"Open In Colab\"/></a>"
      ]
    },
    {
      "cell_type": "markdown",
      "metadata": {
        "id": "k1rapjlnpdmB"
      },
      "source": [
        "**Code for PESEL Random generator below. \n",
        "What works? Generating n-number of PESELs. All months have correct number of days. Code covers birth years from 1800-2099. PESEL numbers should be unique thanks to the \"np.unique\" but i don't know yet why this change pesel numbers**\n",
        "\n",
        "---\n",
        "\n"
      ]
    },
    {
      "cell_type": "code",
      "metadata": {
        "id": "8uk13CIIGyE8"
      },
      "source": [
        "import numpy as np\n",
        "import random\n",
        "\n",
        "x = np.random.randint(low=1, high=100000, size=10000000)\n",
        "\n",
        "n = 40000000\n",
        "year = np.random.randint(low=00, high=99, size=n)\n",
        "\n",
        "month1 = np.random.randint(low=1, high=12, size=n)\n",
        "month2 = np.random.randint(low=1, high=12, size=n) + 20 #for year >= 2000\n",
        "month3 = np.random.randint(low=1, high=12, size=n) + 80 #for year 1899-1800\n",
        "month_all = np.append(month1, month2)\n",
        "month_all2 = np.append(month_all, month3)\n",
        "#month = month1 + month2 + month3 to n=40000000\n",
        "month_alt = random.choices(month_all2, k=n)\n",
        "month = np.array(month_alt)\n",
        "\n",
        "#31 days (1, 3, 5, 7, 8, 10, 12) / +20 (21, 23, 25, 27, 28, 30, 32)  / +80 (81, 83, 85, 87, 88, 90, 92)\n",
        "odd_months = (1, 3, 5, 7, 8, 10, 12, 21, 23, 25, 27, 28, 30, 32, 81, 83, 85, 87, 88, 90, 92)\n",
        "\n",
        "#30 days (4, 6, 9, 11) / +20 (24, 26, 29, 31) / +80 (84, 86, 89, 91)\n",
        "even_months = (4, 6, 9, 11, 24, 26, 29, 31, 84, 86, 89, 91)\n",
        "\n",
        "if np.any(month) in odd_months:\n",
        "        day = np.random.randint(low=1, high=31, size=n)\n",
        "elif np.any(month) in even_months:\n",
        "        day = np.random.randint(low=1, high=30, size=n)\n",
        "\n",
        "#feb 28/29 daysif month\n",
        "else: \n",
        "        if year % 4 == 0:\n",
        "                day = random.randint(1,29)\n",
        "        else:\n",
        "                day = random.randint(1,28)\n",
        "\n",
        "\n",
        "ser_1 = np.random.randint(low=0, high=9, size=n)\n",
        "ser_2 = np.random.randint(low=0, high=9, size=n)\n",
        "ser_3 = np.random.randint(low=0, high=9, size=n)\n",
        "sex = np.random.randint(low=0, high=9, size=n)\n",
        "\n",
        "# checksum\n",
        "control = (year//10) + 3*(year%10)\n",
        "control += 7*(month//10) + 9*(month%10)\n",
        "control += (day//10) + 3*(day%10)\n",
        "control += 7*(ser_1//10) + 9*(ser_1%10)\n",
        "control += (ser_2//10) + 3*(ser_2%10)\n",
        "control += 7*(ser_3//10) + 9*(ser_3%10)\n",
        "control += (sex//10) + 3*(sex%10)\n",
        "\n",
        "control = (10 - (control % 10)) % 10\n",
        "\n",
        "pesel_db = 1000000000*year + 10000000*month + 100000*day + 10000*ser_1 + 1000*ser_2 + 100*ser_3 + 10 * sex + control\n",
        "\n",
        "#To remove duplicates there is uni_pesel list\n",
        "uni_pesel = np.unique(pesel_db)"
      ],
      "execution_count": 1,
      "outputs": []
    },
    {
      "cell_type": "code",
      "metadata": {
        "id": "vGEq_x3pFxH1",
        "outputId": "2ae02bd7-fb54-4e87-d533-604712119d8f",
        "colab": {
          "base_uri": "https://localhost:8080/"
        }
      },
      "source": [
        "#TEST PESEL\n",
        "pesel_db"
      ],
      "execution_count": 2,
      "outputs": [
        {
          "output_type": "execute_result",
          "data": {
            "text/plain": [
              "array([96900532730, 71860104803,  2081251773, ..., 84840538475,\n",
              "       95891970868, 95273042066])"
            ]
          },
          "metadata": {
            "tags": []
          },
          "execution_count": 2
        }
      ]
    },
    {
      "cell_type": "code",
      "metadata": {
        "id": "duFH3Oa6Mjic",
        "outputId": "f0843e73-f897-4e1e-bd25-0eec9830f442",
        "colab": {
          "base_uri": "https://localhost:8080/"
        }
      },
      "source": [
        "month[3], day[3]"
      ],
      "execution_count": 3,
      "outputs": [
        {
          "output_type": "execute_result",
          "data": {
            "text/plain": [
              "(5, 28)"
            ]
          },
          "metadata": {
            "tags": []
          },
          "execution_count": 3
        }
      ]
    },
    {
      "cell_type": "code",
      "metadata": {
        "id": "zStkvtNubk_6",
        "outputId": "102ff8cc-ecdc-4636-e2cd-8057f610224d",
        "colab": {
          "base_uri": "https://localhost:8080/"
        }
      },
      "source": [
        "#TEST Unique Pesel\n",
        "uni_pesel[2]"
      ],
      "execution_count": 4,
      "outputs": [
        {
          "output_type": "execute_result",
          "data": {
            "text/plain": [
              "10100868"
            ]
          },
          "metadata": {
            "tags": []
          },
          "execution_count": 4
        }
      ]
    },
    {
      "cell_type": "markdown",
      "metadata": {
        "id": "3EhtnrJZqwTl"
      },
      "source": [
        "**Analyizing vibration of PESEL number. Code works in 3 steps.**\n",
        "\n",
        "\n",
        "\n",
        "---\n",
        "\n"
      ]
    },
    {
      "cell_type": "code",
      "metadata": {
        "id": "PRNspc-QzH5l",
        "outputId": "1b6650c3-e7d9-4fc8-e760-e54b83ba57ee",
        "colab": {
          "base_uri": "https://localhost:8080/"
        }
      },
      "source": [
        "#1st sum\n",
        "def getSum(n):  \n",
        "     \n",
        "    sum = 0\n",
        "    while np.any((n != 0)):  \n",
        "        \n",
        "        sum = sum + (n % 10) \n",
        "        n = n//10\n",
        "        \n",
        "    return sum\n",
        "    \n",
        "n = np.array(pesel_db)\n",
        "print(getSum(n))"
      ],
      "execution_count": 5,
      "outputs": [
        {
          "output_type": "stream",
          "text": [
            "[44 38 36 ... 56 70 44]\n"
          ],
          "name": "stdout"
        }
      ]
    },
    {
      "cell_type": "code",
      "metadata": {
        "id": "oDg4WP1d00xz",
        "outputId": "16b74547-b1ef-47a4-8f11-c4d6e4d14e3c",
        "colab": {
          "base_uri": "https://localhost:8080/"
        }
      },
      "source": [
        "#2nd sum\n",
        "def getSum(n2):  \n",
        "     \n",
        "    sum = 0\n",
        "    while np.any((n2 != 0)):  \n",
        "        \n",
        "        sum = sum + (n2 % 10) \n",
        "        n2 = n2//10\n",
        "        \n",
        "    return sum\n",
        "    \n",
        "n2 = np.array(getSum(n))\n",
        "print(getSum(n2))"
      ],
      "execution_count": 6,
      "outputs": [
        {
          "output_type": "stream",
          "text": [
            "[ 8 11  9 ... 11  7  8]\n"
          ],
          "name": "stdout"
        }
      ]
    },
    {
      "cell_type": "code",
      "metadata": {
        "id": "Rcp5NPca1c7E",
        "outputId": "784e4f86-f75d-490a-84c5-d8c80375eea2",
        "colab": {
          "base_uri": "https://localhost:8080/"
        }
      },
      "source": [
        "#3rd sum\n",
        "def getSum(n3):  \n",
        "     \n",
        "    sum = 0\n",
        "    while np.any((n3 != 0)):  \n",
        "        \n",
        "        sum = sum + (n3 % 10) \n",
        "        n3 = n3//10\n",
        "        \n",
        "    return sum\n",
        "    \n",
        "n3 = np.array(getSum(n2))\n",
        "print('Vibrations for a generated PESEL', getSum(n3))"
      ],
      "execution_count": 7,
      "outputs": [
        {
          "output_type": "stream",
          "text": [
            "Vibrations for a generated PESEL [8 2 9 ... 2 7 8]\n"
          ],
          "name": "stdout"
        }
      ]
    },
    {
      "cell_type": "code",
      "metadata": {
        "id": "Hrksmwb32A2R",
        "outputId": "912bd2e7-3277-4308-809d-f5fbcdd58cc5",
        "colab": {
          "base_uri": "https://localhost:8080/"
        }
      },
      "source": [
        "#TEST Vibartion for a choosen PESEL\n",
        "getSum(n3)[1]"
      ],
      "execution_count": 8,
      "outputs": [
        {
          "output_type": "execute_result",
          "data": {
            "text/plain": [
              "2"
            ]
          },
          "metadata": {
            "tags": []
          },
          "execution_count": 8
        }
      ]
    },
    {
      "cell_type": "code",
      "metadata": {
        "id": "S8BuhmmUsZor",
        "outputId": "8c3f1637-5ac7-4f67-ecf4-3814fbcede3d",
        "colab": {
          "base_uri": "https://localhost:8080/"
        }
      },
      "source": [
        "#Different approach. Not finished. No idea how to get 2nd, 3rd [...] number with rounding number with so many digits. \n",
        "#I found a command \"sum\" in python library and decide to use it instead. Code above is working as it should i guess.\n",
        "import math as mt\n",
        "num1 = np.floor(pesel_db / 10000000000)\n",
        "num1"
      ],
      "execution_count": null,
      "outputs": [
        {
          "output_type": "execute_result",
          "data": {
            "text/plain": [
              "array([9., 6., 9., ..., 7., 8., 0.])"
            ]
          },
          "metadata": {
            "tags": []
          },
          "execution_count": 160
        }
      ]
    },
    {
      "cell_type": "markdown",
      "metadata": {
        "id": "UdiirpnT3FvC"
      },
      "source": [
        "**Analayzing data from PESEL dataset. Number of Female and Male Pesels. How many ppl are birth 29th february**\n",
        "\n",
        "---\n",
        "\n"
      ]
    },
    {
      "cell_type": "code",
      "metadata": {
        "id": "nH4IvIxW7SdH",
        "outputId": "823e1f4f-c28c-4986-fe8d-9fa793c062f1",
        "colab": {
          "base_uri": "https://localhost:8080/"
        }
      },
      "source": [
        "#According to Wikipedia:\n",
        "# PESEL number has the form of YYMMDDZZZXQ\n",
        "# YYMMDD is the date of birth (with century encoded in month field)\n",
        "# ZZZX is the personal identification number\n",
        "# X codes sex (even number for females, odd number for males)\n",
        "# Q is a check digit\n",
        "\n",
        "\n",
        "#Checking number of male and females in our database\n",
        "import numpy as np\n",
        "mylist = np.array(pesel_db)\n",
        "\n",
        "def get_matches(mylist, start, end, valuelist):\n",
        "    valuelist = [str(value) for value in valuelist]\n",
        "    return [str(i)[start:end+1] in valuelist  for i in mylist]\n",
        "storage = get_matches(mylist, start=9, end=9, valuelist=[0,2,4,6,8]).count(True)\n",
        "\n",
        "print(\"Number of Female PESELs:\", storage)\n",
        "print(\"Number of Male PESELs\", 40000000-storage)\n"
      ],
      "execution_count": 15,
      "outputs": [
        {
          "output_type": "stream",
          "text": [
            "Number of Female PESELs: 21799894\n",
            "Number of Male PESELs 18200106\n"
          ],
          "name": "stdout"
        }
      ]
    },
    {
      "cell_type": "code",
      "metadata": {
        "id": "qDVbc2bJBMOq",
        "outputId": "f0bd15ab-4fa0-4b6f-f72c-9c2abc90ce2b",
        "colab": {
          "base_uri": "https://localhost:8080/"
        }
      },
      "source": [
        "#Checking number of ppl birth in 29 february.\n",
        "#Possible MMDD \"0229 2229 8229\"\n",
        "\n",
        "import numpy as np\n",
        "mylist = np.array(pesel_db)\n",
        "\n",
        "def get_matches(mylist, start, end, valuelist):\n",
        "    valuelist = [str(value) for value in valuelist]\n",
        "    return [str(i)[start:end+1] in valuelist  for i in mylist]\n",
        "storage2 = get_matches(mylist, start=2, end=5, valuelist=[229, 2229, 8229]).count(True)\n",
        "\n",
        "print(\"People birth in 29th February in database:\", storage2)\n"
      ],
      "execution_count": 14,
      "outputs": [
        {
          "output_type": "stream",
          "text": [
            "People birth in 29th February in database: 72538\n"
          ],
          "name": "stdout"
        }
      ]
    }
  ]
}