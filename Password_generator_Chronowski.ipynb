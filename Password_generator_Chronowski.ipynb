{
  "nbformat": 4,
  "nbformat_minor": 0,
  "metadata": {
    "colab": {
      "name": "Password_generator_Chronowski.ipynb",
      "provenance": [],
      "collapsed_sections": [],
      "authorship_tag": "ABX9TyN4Xnjta52XkMyEVLINRiFi",
      "include_colab_link": true
    },
    "kernelspec": {
      "name": "python3",
      "display_name": "Python 3"
    }
  },
  "cells": [
    {
      "cell_type": "markdown",
      "metadata": {
        "id": "view-in-github",
        "colab_type": "text"
      },
      "source": [
        "<a href=\"https://colab.research.google.com/github/mchronowski/KISDPythonCourse/blob/main/Password_generator_Chronowski.ipynb\" target=\"_parent\"><img src=\"https://colab.research.google.com/assets/colab-badge.svg\" alt=\"Open In Colab\"/></a>"
      ]
    },
    {
      "cell_type": "code",
      "metadata": {
        "id": "NWJYFrJVpYOq",
        "outputId": "051f288f-c907-45f9-ef81-db5d81871e31",
        "colab": {
          "base_uri": "https://localhost:8080/",
          "height": 134
        }
      },
      "source": [
        "# My first attempt is to randomly generate nymber and letters (with capital letters) and mix them togather. \n",
        "# In my second attempt i decide to put a user \"element\" into the password to make it at least a little bit easier to remember (but ofc not safer)\n",
        "# During the DataCamp course Hugo showed function \"random\" but decide to not use because in the internet i found info that it is not advised to use to generate any sort of passwords. \n",
        "\n",
        "import secrets as secu\n",
        "import string as stri\n",
        "\n",
        "Safepass  = stri.digits + stri.ascii_letters\n",
        "\n",
        "generated_password = secu.choice(stri.ascii_letters) + secu.choice(stri.digits)\n",
        "generated_password2 = secu.choice(stri.ascii_letters) + secu.choice(stri.digits)\n",
        "generated_password3 = secu.choice(stri.ascii_letters) + secu.choice(stri.digits)\n",
        "generated_password4 = secu.choice(stri.ascii_letters) + secu.choice(stri.digits)\n",
        "generated_password5 = secu.choice(stri.ascii_letters) + secu.choice(stri.digits)\n",
        "generated_password6 = secu.choice(stri.ascii_letters) + secu.choice(stri.digits)\n",
        "personal_password = secu.choice(stri.ascii_letters) + secu.choice(stri.digits)\n",
        "personal_password2 = secu.choice(stri.ascii_letters) + secu.choice(stri.digits)\n",
        "\n",
        "#Higher security password generator below\n",
        "for i in range(2):\n",
        "    generated_password += secu.choice(Safepass)\n",
        "    generated_password2 += secu.choice(Safepass)\n",
        "    generated_password3 += secu.choice(Safepass)\n",
        "    generated_password4 += secu.choice(Safepass)\n",
        "    generated_password5 += secu.choice(Safepass)\n",
        "    generated_password6 += secu.choice(Safepass)\n",
        "\n",
        "#Personal security password generator below\n",
        "for i in range(2):\n",
        "    personal_password += secu.choice(Safepass)\n",
        "    personal_password2 += secu.choice(Safepass)\n",
        "\n",
        "#HERE PUT YOUR PERSONAL PHRASE TO PUT IN YOUR PASSWORD\n",
        "    phrase_list = [\"Blue\", 'Green', 'Yellow']\n",
        "\n",
        "print('Your 1st randomly generated passoword is', generated_password + generated_password2, )\n",
        "print('Your 2nd randomly generated passoword is', generated_password3 + generated_password4, )\n",
        "print('Your 3rd randomly generated passoword is', generated_password5 + generated_password6, )\n",
        "print('All passwords generated randomly above are RECOMMENDED TO USE FOR YOUR INTERNET SAFETY!')\n",
        "print('---')\n",
        "print('Your randomly generated personal password is', personal_password + secu.choice(phrase_list) + personal_password2)\n",
        "print('Remember this passoword is not as safe as 3 examples generated above.')\n",
        "\n"
      ],
      "execution_count": null,
      "outputs": [
        {
          "output_type": "stream",
          "text": [
            "Your 1st randomly generated passoword is I8dUE45E\n",
            "Your 2nd randomly generated passoword is p5c1t0OX\n",
            "Your 3rd randomly generated passoword is J4v7r1uH\n",
            "All passwords generated randomly above are RECOMMENDED TO USE FOR YOUR INTERNET SAFETY!\n",
            "---\n",
            "Your randomly generated personal password is x0sZYellowf5Wu\n",
            "Remember this passoword is not as safe as 3 examples generated above.\n"
          ],
          "name": "stdout"
        }
      ]
    },
    {
      "cell_type": "markdown",
      "metadata": {
        "id": "7zznMCKSqjXr"
      },
      "source": [
        ""
      ]
    }
  ]
}